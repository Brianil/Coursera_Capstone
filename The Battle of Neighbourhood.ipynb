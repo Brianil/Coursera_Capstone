{
 "cells": [
  {
   "cell_type": "markdown",
   "metadata": {},
   "source": [
    "# Final Project - THE BATTLE OF NEIGHBOURHOOD\n",
    "## Applied Data Science Capstone by IBM/Coursera"
   ]
  },
  {
   "cell_type": "markdown",
   "metadata": {},
   "source": [
    "## Introduction: Business Problem"
   ]
  },
  {
   "cell_type": "markdown",
   "metadata": {},
   "source": [
    "This project aims to select or to suggest the best place in <b>India</b> for the targeted people to get settled. \n",
    "\n",
    "The report will be targeted to people who are looking to <b>settle in India.</b>\n",
    "\n",
    "For settlement, or to find a neighbourhood to hunt for an apartment, we will be focusing on the <b>four metropolitan cities</b> only - namely, <b>Delhi, Mumbai, Chennai and Kolkata.</b>\n",
    "\n",
    "We will explore the neighbourhood of all four cities and finally cluster the neighbourhoods using k-mean clustering.\n",
    "\n",
    "We will suggest different cities on basis of their preferences and the atmosphere."
   ]
  },
  {
   "cell_type": "markdown",
   "metadata": {},
   "source": [
    "# Data"
   ]
  },
  {
   "cell_type": "markdown",
   "metadata": {},
   "source": [
    "Based on the definition of the problem,factors that will influence our decisons is \"Most common places in Neighbourhood of the cities\"\n",
    "\n",
    "Following data sources will be used to extract/generate the information:-\n",
    "\n",
    "Part1:Preprocessing a data set to get pin codes and location information from https://data.gov.in/resources/all-india-pincode-directory-contact-details-along-latitude-and-longitude \n",
    "\n",
    "Part2: Getting coordinates of some places that are not included in dataset using Google Maps API Geocoding\n",
    "\n",
    "Part3: Using Foursquare API to get neighbourhood data."
   ]
  }
 ],
 "metadata": {
  "kernelspec": {
   "display_name": "Python 3",
   "language": "python",
   "name": "python3"
  },
  "language_info": {
   "codemirror_mode": {
    "name": "ipython",
    "version": 3
   },
   "file_extension": ".py",
   "mimetype": "text/x-python",
   "name": "python",
   "nbconvert_exporter": "python",
   "pygments_lexer": "ipython3",
   "version": "3.7.7"
  }
 },
 "nbformat": 4,
 "nbformat_minor": 4
}
